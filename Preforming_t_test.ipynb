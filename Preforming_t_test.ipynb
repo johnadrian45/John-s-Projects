{
 "cells": [
  {
   "cell_type": "code",
   "execution_count": 2,
   "metadata": {},
   "outputs": [],
   "source": [
    "import math\n",
    "import pandas as pd\n",
    "import numpy as np\n",
    "from scipy import stats\n",
    "import matplotlib.pyplot as plt"
   ]
  },
  {
   "cell_type": "code",
   "execution_count": 48,
   "metadata": {},
   "outputs": [
    {
     "name": "stdout",
     "output_type": "stream",
     "text": [
      "DescribeResult(nobs=373, minmax=(25000.0, 175000.0), mean=59884.85254691689, variance=455341800.98626363, skewness=1.4196100209360347, kurtosis=3.448225770991252)\n",
      "DescribeResult(nobs=173, minmax=(31900.0, 190000.0), mean=85880.58959537573, variance=810167352.2317516, skewness=0.8558523643779228, kurtosis=0.9609338749117713)\n",
      "After performing a ttest our test variabzle is -11.862852780650169, and the p value is 4.972721571759431e-29, indicating there is a significant differnce between the mean of the first population and the second population.\n"
     ]
    },
    {
     "data": {
      "text/plain": [
       "'The differnce in means at the 95 percent confidence interval is between 4762.357881483982 and -4762.357881483982'"
      ]
     },
     "execution_count": 48,
     "metadata": {},
     "output_type": "execute_result"
    },
    {
     "data": {
      "image/png": "[encoded data removed]",
      "text/plain": [
       "<Figure size 432x288 with 1 Axes>"
      ]
     },
     "metadata": {
      "needs_background": "light"
     },
     "output_type": "display_data"
    }
   ],
   "source": [
    "'''\n",
    "Null Hypthoesis: Ho: u1 - u2 = 0\n",
    "On average, there is no significant differnce between the sale price of houses with airconditioning\n",
    "and houses without air conditioning. The first population mean is equal to the second population mean.\n",
    "\n",
    "Alternative Hypothesis: Ha: u1 - u2 != 0\n",
    "On average there is a significant difference between the sale price of houses with ariconditiong\n",
    "and houses without air condition. The first population mean is not equal to the second population mean.\n",
    "'''\n",
    "\n",
    "#Read CSV file\n",
    "housing = pd.read_csv('https://tf-assets-prod.s3.amazonaws.com/tf-curric/data-science/homeprices.applied.econ.csv')\n",
    "\n",
    "#Filter into two data sets, with and without air\n",
    "no_air = housing['airco'] == 'no'\n",
    "air = housing['airco'] == 'yes'\n",
    "housing_no_air = housing.iloc[no_air.values]\n",
    "housing_air = housing.iloc[air.values]\n",
    "\n",
    "#Show that both data sets are normal.\n",
    "plt.hist(housing_air['price'], alpha = .5)\n",
    "plt.hist(housing_no_air['price'], alpha = .5)\n",
    "print(stats.describe(housing_no_air['price']))\n",
    "print(stats.describe(housing_air['price']))\n",
    "\n",
    "#Perform t-test\n",
    "ttest_results = stats.ttest_ind(housing_no_air['price'], housing_air['price'])\n",
    "print('After performing a ttest our test variabzle is {}, and the p value is {}, indicating there is a significant differnce between the mean of the first population and the second population.'.format(ttest_results[0], ttest_results[1]))\n",
    "\n",
    "#Find condfidence interval\n",
    "def find_ci(data_1, data_2):\n",
    "    sample_1_n = data_1.shape[0]\n",
    "    sample_2_n = data_2.shape[0]\n",
    "    sample_1_mean = data_1.mean()\n",
    "    sample_2_mean = data_2.mean()\n",
    "    sample_1_var = data_1.var()\n",
    "    sample_2_var = data_2.var()\n",
    "    mean_diff = sample_2_mean - sample_2_mean\n",
    "    std_err_diff = math.sqrt((sample_1_var/sample_1_n) + (sample_2_var/sample_2_n))\n",
    "    margin_of_error = 1.96 * std_err_diff\n",
    "    ci_upper = mean_diff + margin_of_error\n",
    "    ci_lower = mean_diff - margin_of_error\n",
    "    return('The differnce in means at the 95 percent confidence interval is between {} and {}'.format(ci_upper, ci_lower))\n",
    "find_ci(housing_air['price'], housing_no_air['price'])\n",
    "\n",
    "\n"
   ]
  },
  {
   "cell_type": "code",
   "execution_count": 47,
   "metadata": {},
   "outputs": [
    {
     "name": "stdout",
     "output_type": "stream",
     "text": [
      "DescribeResult(nobs=191, minmax=(26000.0, 175000.0), mean=74894.50261780104, variance=687483535.4092036, skewness=1.299439350765169, kurtosis=2.200944427832982)\n",
      "DescribeResult(nobs=355, minmax=(25000.0, 190000.0), mean=64477.58309859155, variance=690693014.1816344, skewness=1.2539001276811907, kurtosis=1.9898502593432044)\n",
      "After performing a ttest our test variabzle is 4.420628512286621, and the p value is 1.1885626562866786e-05, indicating there is a significant differnce between the mean of the first population and the second population.\n"
     ]
    },
    {
     "data": {
      "text/plain": [
       "'The differnce in means at the 95 percent confidence interval is between 2686.1839157569616 and -2686.1839157569616'"
      ]
     },
     "execution_count": 47,
     "metadata": {},
     "output_type": "execute_result"
    },
    {
     "data": {
      "image/png": "[encoded data removed]",
      "text/plain": [
       "<Figure size 432x288 with 1 Axes>"
      ]
     },
     "metadata": {
      "needs_background": "light"
     },
     "output_type": "display_data"
    }
   ],
   "source": [
    "#Split up the data\n",
    "basement_yes = housing['fullbase'] == 'yes'\n",
    "basement_no = housing['fullbase'] == 'no'\n",
    "housing_basement = housing.iloc[basement_yes.values]\n",
    "housing_no_basement = housing.iloc[basement_no.values]\n",
    "\n",
    "#Show that the data is normal\n",
    "plt.hist(housing_basement['price'], alpha = .5)\n",
    "plt.hist(housing_no_basement['price'], alpha = .5)\n",
    "print(stats.describe(housing_basement['price']))\n",
    "print(stats.describe(housing_no_basement['price']))\n",
    "\n",
    "#Perform t-test\n",
    "ttest_basement = stats.ttest_ind(housing_basement['price'], housing_no_basement['price'])\n",
    "print('After performing a ttest our test variabzle is {}, and the p value is {}, indicating there is a significant differnce between the mean of the first population and the second population.'.format(ttest_basement[0], ttest_basement[1]))\n",
    "\n",
    "#Find confidence interval\n",
    "find_ci(housing_basement['price'], housing_no_basement['price'])"
   ]
  },
  {
   "cell_type": "code",
   "execution_count": null,
   "metadata": {},
   "outputs": [],
   "source": []
  }
 ],
 "metadata": {
  "kernelspec": {
   "display_name": "Python 3",
   "language": "python",
   "name": "python3"
  },
  "language_info": {
   "codemirror_mode": {
    "name": "ipython",
    "version": 3
   },
   "file_extension": ".py",
   "mimetype": "text/x-python",
   "name": "python",
   "nbconvert_exporter": "python",
   "pygments_lexer": "ipython3",
   "version": "3.7.6"
  }
 },
 "nbformat": 4,
 "nbformat_minor": 4
}
